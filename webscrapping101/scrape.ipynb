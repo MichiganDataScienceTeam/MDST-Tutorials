{
 "cells": [
  {
   "cell_type": "code",
   "execution_count": 9,
   "metadata": {},
   "outputs": [],
   "source": [
    "import httpx\n",
    "\n",
    "url = \"https://bulletin.engin.umich.edu/courses/eecs/\"\n",
    "headers = {\n",
    "    'Accept': 'text/html,application/xhtml+xml,application/xml;q=0.9,image/webp,image/apng,*/*;q=0.8',\n",
    "    'User-Agent': 'Mozilla/5.0 (Macintosh; Intel Mac OS X 10_15_5) AppleWebKit/537.36 (KHTML, like Gecko) Chrome/83.0.4103.97 Safari/537.36',\n",
    "}\n",
    "response = httpx.get(url,headers=headers)\n",
    "# print(response.text) \n",
    "# This line is commented out to avoid excessive output for the notebook cell. \n",
    "# Uncomment this line during production stage to look through the html structure. \n",
    "# Or even better, use developer tools of web browser to inspect webpages directly.\n"
   ]
  },
  {
   "cell_type": "markdown",
   "metadata": {},
   "source": [
    "First take a look of selecting all the p tags under \"\\<div class=\"entry-content\">\" and printing their cotent out in full. "
   ]
  },
  {
   "cell_type": "code",
   "execution_count": 10,
   "metadata": {},
   "outputs": [
    {
     "name": "stdout",
     "output_type": "stream",
     "text": [
      "<p><strong>EECS 110. Discover Computer Science </strong><br/><em>Enforced Prerequisite: None. (2 credits).</em><br/>Introduction to basic CS concepts (variables, conditionals, loops, functions) using an introductory programming language, such as Python. Students interact with researchers and computing professionals to learn about real-world, interdisciplinary applications of CS. Intended for students without prior programming experience to (optionally) take prior to EECS 183 or ENGR 101. <a href=\"https://atlas.ai.umich.edu/course/EECS%20110/\">CourseProfile (ATLAS)</a> </p>\n"
     ]
    }
   ],
   "source": [
    "from bs4 import BeautifulSoup\n",
    "\n",
    "parser = BeautifulSoup(response, 'html.parser')\n",
    "\n",
    "div = parser.find('div', class_= \"entry-content\")\n",
    "\n",
    "p_tags = div.find_all('p')[1:] # through inspection the first tag is irrelevant.\n",
    "\n",
    "print(p_tags[0])\n",
    "#for p in p_tags:\n",
    "    #print(p)"
   ]
  },
  {
   "cell_type": "markdown",
   "metadata": {},
   "source": [
    "Print a clean version"
   ]
  },
  {
   "cell_type": "code",
   "execution_count": 11,
   "metadata": {},
   "outputs": [
    {
     "name": "stdout",
     "output_type": "stream",
     "text": [
      "EECS 110. Discover Computer Science Enforced Prerequisite: None. (2 credits).Introduction to basic CS concepts (variables, conditionals, loops, functions) using an introductory programming language, such as Python. Students interact with researchers and computing professionals to learn about real-world, interdisciplinary applications of CS. Intended for students without prior programming experience to (optionally) take prior to EECS 183 or ENGR 101. CourseProfile (ATLAS) \n"
     ]
    }
   ],
   "source": [
    "print(p_tags[0].getText())\n",
    "#for p in p_tags:\n",
    "    #print(p.getText())"
   ]
  },
  {
   "cell_type": "markdown",
   "metadata": {},
   "source": [
    "As described in our guide, we only need the informations under the \"strong\", \"em\", and \"a\" tag. For \"a\" tag, we need its \"href\" attribute for a web url (instead of the literal words \"CourseProfile (ATLAS)\" )"
   ]
  },
  {
   "cell_type": "code",
   "execution_count": 12,
   "metadata": {},
   "outputs": [
    {
     "name": "stdout",
     "output_type": "stream",
     "text": [
      "EECS 110. Discover Computer Science \n",
      "Enforced Prerequisite: None. (2 credits).\n",
      "https://atlas.ai.umich.edu/course/EECS%20110/\n"
     ]
    }
   ],
   "source": [
    "course = []\n",
    "prereq = []\n",
    "link = []\n",
    "\n",
    "for p in p_tags:\n",
    "    strong, em, a = p.find('strong'), p.find('em'),  p.find('a')  \n",
    "    if strong is not None: course.append(strong.getText())\n",
    "    if em is not None: prereq.append(em.getText())\n",
    "    if a is not None: link.append(a['href']) # Get the href attribute, not literal text\n",
    "\n",
    "print(course[0])\n",
    "print(prereq[0])\n",
    "print(link[0])"
   ]
  },
  {
   "cell_type": "markdown",
   "metadata": {},
   "source": [
    "Some of the courses have the character \\xa0, a variant of a standard space chraracter that prevents an automatic link break at its position. We need to strip it. "
   ]
  },
  {
   "cell_type": "code",
   "execution_count": 13,
   "metadata": {},
   "outputs": [
    {
     "name": "stdout",
     "output_type": "stream",
     "text": [
      "['EECS 110. Discover Computer Science', 'EECS 180. Exam/Transfer Introductory Computer Programming Credit', 'EECS 183. Elementary Programming Concepts', 'EECS 198. Special Topics', 'EECS 200. Electrical Engineering Systems Design I', 'EECS 201. Computer Science Pragmatics', 'EECS 203. Discrete Mathematics', 'EECS 215. Introduction to Electronic Circuits', 'EECS 216. Introduction to Signals and Systems', 'EECS 230. Electromagnetics I', 'EECS 250 (NAVSCI 202). Electronic Sensing Systems', 'EECS 270. Introduction to Logic Design', 'EECS 280. Programming and Introductory Data Structures', 'EECS 281. Data Structures and Algorithms', 'EECS 285. Practical Programming in Java', 'EECS 298. Special Topics', 'EECS 300. Electrical Engineering Systems Design II', 'EECS 301. Probabilistic Methods in Engineering', 'EECS 311. Analog Circuits', 'EECS 312. Digital Integrated Circuits', 'EECS 314. Electrical Circuits, Systems, and Applications', 'EECS 320. Introduction to Semiconductor Devices', 'EECS 330. Introduction to Antennas and Wireless Systems', 'EECS 334. Principles of Optics', 'EECS 351. Introduction to Digital Signal Processing', 'EECS 367 (ROB 380). Introduction to Autonomous Robotics', 'EECS 370. Introduction to Computer Organization', 'EECS 373. Introduction to Embedded System Design', 'EECS 376. Foundations of Computer Science', 'EECS 388. Introduction to Computer Security', 'EECS 390. Programming Paradigms', 'EECS 398. Special Topics', 'EECS 399. Directed Study', 'EECS 402. Computer Programming For Scientists and Engineers', 'EECS 403. Graduate Foundations of Data Structures and Algorithms', 'EECS 406 (ENGR 406). High-Tech Entrepreneurship', 'EECS 409. Data Science Seminar', 'EECS 410 (ENGR 410) Patent Fundamentals for Engineers', 'EECS 411. Microwave Circuits I', 'EECS 413. Monolithic Amplifier Circuits', 'EECS 414. Introduction to MEMS', 'EECS 417 (BIOMEDE 417). Electrical Biophysics', 'EECS 418. Power Electronics', 'EECS 419. Electric Machinery and Drives', 'EECS 421. Properties of Transistors', 'EECS 423. Micro/Nano Device Fabrication and Characterization ', 'EECS 425. Integrated Microsystems Laboratory', 'EECS 427. VLSI Design I', 'EECS 428. Introduction to Quantum Nanotechnology', 'EECS 429. Semiconductor Optoelectronic Devices', 'EECS 430 (SPACE 431)(CLIMATE 431). Wireless Link Design', 'EECS 434. Principles of Photonics', 'EECS 435. Fourier Optics', 'EECS 438. Advanced Lasers and Optics Laboratory', 'EECS 440. Extended Reality for Social Impact', 'EECS 441. Mobile App Development for Entrepreneurs', 'EECS 442. Computer Vision', 'EECS 443. Senior Thesis', 'EECS 444. Analysis of Societal Networks', 'EECS 445. Introduction to Machine Learning', 'EECS 448. Applied Machine Learning for Modeling Human Behavior', 'EECS 449. Conversational Artificial Intelligence', 'EECS 452. Digital Signal Processing Design Laboratory', 'EECS 453. Principles of Machine Learning', 'EECS 455. Wireless Communications Systems', 'EECS 456. Internet Foundations', 'EECS 458 (BIOMEDE 458). Biomedical Instrumentation and Design', 'EECS 460. Control Systems Analysis and Design', 'EECS 461. Embedded Control Systems', 'EECS 463. Power Systems Design and Operation', 'EECS 464 (ROB 464). Hands-on Robotics', 'EECS 465 (ROB 422). Introduction to Algorithmic Robotics', 'EECS 467. Autonomous Robotics Design Experience', 'EECS 470. Computer Architecture', 'EECS 471. Applied Parallel Programming with GPUs', 'EECS 473. Advanced Embedded Systems', 'EECS 475. Introduction to Cryptography', 'EECS 476. Data Mining', 'EECS 477. Introduction to Algorithms', 'EECS 478. Logic Circuit Synthesis and Optimization', 'EECS 480. Social Computing Systems', 'EECS 481. Software Engineering', 'EECS 482. Introduction to Operating Systems', 'EECS 483. Compiler Construction', 'EECS 484. Database Management Systems', 'EECS 485. Web Systems', 'EECS 486. Informational Retrieval and Web Search', 'EECS 487. Introduction to Natural Language Processing', 'EECS 489. Computer Networks', 'EECS 490. Programming Languages', 'EECS 491. Introduction to Distributed Systems', 'EECS 492. Introduction to Artificial Intelligence', 'EECS 493. User Interface Development', 'EECS 494. Computer Game Design and Development', 'EECS 495. Accessible Computing', 'EECS 496. Major Design Experience Professionalism', 'EECS 497. Human-Centered Software and Design and Development', 'EECS 498. Special Topics', 'EECS 499. Directed Study', 'ECE 500. Tutorial Lecture Series in System Science', 'ECE 501. Probability and Random Processes', 'ECE 502. Stochastic Processes', 'ECE 503. Introduction to Numerical Electromagnetics', 'EECS 504. Foundations of Computer Vision', 'ECE 505. Computational Data Science and Machine Learning', 'ECE 506. Design of Power Electronics', 'EECS 507. Introduction to Embedded System Research', 'ECE 508.', 'ECE 509. BioMEMS', 'ECE 511. Integrated Analog/Digital Interface Circuits', 'ECE 512. Amorphous and Microcrystalline Semiconductor Thin Film Devices', 'ECE 513. Flat Panel Displays', 'ECE 514. Advanced MEMS Devices and Technologies', 'ECE 515. Integrated Microsystems', 'ECE 516 (BIOMEDE 516). Medical Imaging Systems', 'ECE 517 (NERS 578). Low Temperature Plasmas', 'ECE 518 (SPACE 595). Magnetosphere and Solar Wind', 'ECE 519 (NERS 575). Plasma Generation and Diagnostics Laboratory', 'ECE 520. Solid State Physics', 'ECE 521. Solid State Devices', 'EECS 522. Analog Integrated Circuits', 'EECS 523. Digital Integrated Technology', 'ECE 524 (APPPHYS 524). Organic Electronic Devices and Applications', 'ECE 525. Advanced Solid State Microwave Circuits', 'ECE 526. Plasmonics', 'ECE 527. Power Semiconductor Devices', 'ECE 528. Principles of Microelectronics Process Technology', 'ECE 529. Semiconductor Lasers and LEDs', 'ECE 530 (APPPHYS 530). Electromagnetic Theory I', 'ECE 531. Antenna Theory and Design', 'ECE 532 (CLIMATE 587) (SPACE 587). Microwave Remote Sensing I: Radiometry', 'ECE 533. Microwave Measurements Laboratory', 'ECE 534. Analysis of Electric Power Distribution Systems and Loads', 'ECE 535. Power System Dynamics and Control', 'ECE 536. Power System Markets & Optimization', 'ECE 537 (APPPHYS 537). Classical Optics', 'ECE 538 (APPPHYS 550) (PHYSICS 650). Optical Waves in Crystals', 'ECE 539 (APPPHYS 551) (PHYSICS 651). Lasers', 'ECE 540 (APPPHYS 540). Applied Quantum Mechanics I', 'ECE 541 (APPPHYS 541). Applied Quantum Mechanics II', 'EECS 542. Advanced Topics in Computer Vision', 'CSE 543 (ROB 543). Ethics for AI and Robotics', 'ECE 544. Analysis of Societal Networks', 'EECS 545. Machine Learning (CSE)', 'ECE 546 (APPPHYS 546). Ultrafast Optics', 'CSE 547 (SI 652). Incentives and Strategic Behavior in Computational Systems', 'CSE 548 (SI 649). Information Visualizaiton', 'CSE 549 (SI 650). Information Retrieval', 'ECE 550. Information Theory', 'ECE 551. Matrix Methods for Signal Processing, Data Analysis and Machine Learning', 'ECE 552 (APPPHYS 552). Fiber Optics: Internet to Biomedical Applications', 'EECS 553. Machine Learning (ECE)', 'ECE 554. Introduction to Digital Communication and Coding', 'ECE 555. Digital Communication Theory', 'ECE 556. Image Processing', 'ECE 557. Communication Networks', 'ECE 558. Stochastic Control', 'ECE 559. Optimization Methods in Signal Processing and Machine Learning', 'ECE 560 (AEROSP 550) (CEE 571) (MECHENG 564). Linear Systems Theory', 'ECE 561 (MECHENG 561). Design of Digital Control Systems', 'ECE 562 (AEROSP 551). Nonlinear Systems and Control', 'ECE 563. Hybrid Systems, Analysis, and Control', 'ECE 564. Estimation, Filtering, and Detection', 'ECE 565. Linear Feedback Control Systems', 'ECE 566. Discrete Event Systems', 'EECS 567 (MFG 567) (MECHENG 567) (ROB 510). Robot Kinematics and Dynamics', 'EECS 568 (NAVARCH 568) (ROB 530). Mobile Robotics: Methods and Algorithms', 'ECE 569 (MFG 564). Production Systems Engineering', 'EECS 570. Parallel Computer Architecture', 'EECS 571. Principles of Real-Time Computing', 'CSE 572. Randomness and Computation', 'EECS 573. Microarchitecture', 'CSE 574. Computational Complexity', 'CSE 575. Advanced Cryptography', 'CSE 576. Advanced Data Mining', 'EECS 578. Correct Operation for Processors and Embedded Systems', 'EECS 579. Digital System Testing', 'CSE 582. Advanced Operating Systems', 'CSE 583. Advanced Compilers', 'CSE 584. Advanced Database Systems', 'CSE 585. Advanced Scalable Systems', 'CSE 586. Design and Analysis of Algorithms', 'CSE 587. Parallel Computing', 'CSE 588. Computer and Network Security', 'CSE 589. Advanced Computer Networks', 'CSE 590. Advanced Programming Languages', 'CSE 591. Distributed Systems', 'CSE 592. Foundations of Artificial Intelligence', 'CSE 593. Human-Computer Interaction', 'CSE 595 (LING 541) (SI 561). Natural Language Processing', 'ECE 596. Master of Engineering Team Project', 'CSE 597 (SI 565) (LING 702). Language and Information', 'CSE 598. Special Topics', 'ECE 598. Special Topics', 'CSE 599. Directed Study', 'ECE 599. Directed Study', 'ECE 600 (IOE 600). Function Space Methods in System Theory', 'CSE 601. Introduction to CSE Graduate Research', 'ECE 602. Reinforcement Learning Theory', 'ECE 605. Data Science and Machine Learning Design Laboratory', 'ECE 620. Electronic and Optical Properties of Semiconductors', 'EECS 627. VLSI Design II', 'EECS 628. Advanced High Performance VLSI Design', 'ECE 631. Electromagnetic Scattering', 'ECE 633. Numerical Methods in Electromagnetics', 'ECE 634 (APPPHYS 611) (Physics 611). Nonlinear Optics', 'ECE 638 (PHYSICS 542). Quantum Optics', 'CSE 643 (PSYCH 643). Theory of Neural Computation', 'CSE 644 (PSYCH 644). Computational Modeling of Cognition', 'ECE 650. Channel Coding Theory', 'ECE 659. Adaptive Signal Processing', 'ECE 662 (AEROSP 672) (MECHENG 662). Advanced Nonlinear Control', 'CSE 670. Special Topics in Computer Architecture', 'CSE 692. Advanced Artificial Intelligence', 'CSE 695 (PSYCH 740). Neural Models and Psychological Processes', 'CSE 698. Master’s Thesis', 'ECE 698. Master’s Thesis', 'CSE 699. Research Work in CSE', 'ECE 699. Research Work in ECE', 'ECE 700. Special Topics in System Theory', 'ECE 720. Special Topics in Solid-State Devices, Integrated Circuits, and Physical Electronics', 'ECE 730. Special Topics in Electromagnetics', 'ECE 735. Special Topics in the Optical Sciences', 'ECE 750. Special Topics in Communication and Information Theory', 'ECE 755. Special Topics in Signal Processing', 'ECE 760. Special Topics in Control Theory', 'ECE 765. Special Topics in Stochastic Systems and Control', 'ECE 820. Seminar in Solid-State Electronics', 'CSE 990. Dissertation/Pre-Candidate', 'ECE 990. Dissertation/Pre-Candidate', 'CSE 995. Dissertation/Candidate', 'ECE 995. Dissertation/Candidate']\n"
     ]
    }
   ],
   "source": [
    "course = [c .replace('\\xa0', '') for c in course]\n",
    "print(course)"
   ]
  },
  {
   "cell_type": "markdown",
   "metadata": {},
   "source": [
    "Use regex to process the data.\n",
    "1. Seperate course code and course name.\n",
    "2. Extract credit information\n",
    "3. Put course code, course name, credit information, link, and prereq to seperate attributes\n",
    "\n",
    "| CourseCode    | CourseName |    Credit       | Link  | Note     |\n",
    "|---------|-----|---------------|-------------|-------------|"
   ]
  },
  {
   "cell_type": "code",
   "execution_count": 14,
   "metadata": {},
   "outputs": [
    {
     "name": "stdout",
     "output_type": "stream",
     "text": [
      "{'CourseCode': 'EECS 110', 'CourseName': 'Discover Computer Science', 'Credit': '2', 'Link': 'https://atlas.ai.umich.edu/course/EECS%20110/', 'Note': 'Enforced Prerequisite: None. (2 credits).'}\n",
      "{'CourseCode': 'EECS 180', 'CourseName': 'Exam/Transfer Introductory Computer Programming Credit', 'Credit': '', 'Link': 'https://atlas.ai.umich.edu/course/EECS%20180/', 'Note': 'Cannot receive credit if student has credit for EECS 183 or ENGR 101 or ENGR 151 (3-4 credits).'}\n",
      "{'CourseCode': 'EECS 183', 'CourseName': 'Elementary Programming Concepts', 'Credit': '4', 'Link': 'https://atlas.ai.umich.edu/course/EECS%20183/', 'Note': 'Prerequisite: None. (Credit for only one: EECS 180, EECS 183, ENGR 101 or ENGR 151) (4 credits)'}\n",
      "{'CourseCode': 'EECS 198', 'CourseName': 'Special Topics', 'Credit': '', 'Link': 'https://atlas.ai.umich.edu/course/EECS%20198/', 'Note': 'Advisory Prerequisite: Permission of instructor. (1-4 credits)'}\n",
      "{'CourseCode': 'EECS 200', 'CourseName': 'Electrical Engineering Systems Design I', 'Credit': '', 'Link': 'https://atlas.ai.umich.edu/course/EECS%20200/', 'Note': 'Advisory Prerequisite: ENGR 100 or ENGR 101 or ENGR 151 or EECS 180 or EECS 280. Preceded or accompanied by: EECS 215 Minimum grade requirement of “C” for advised prerequisites. (2'}\n"
     ]
    }
   ],
   "source": [
    "import re\n",
    "data = []\n",
    "for c, p, l in zip(course, prereq, link):\n",
    "    data_entry = {}\n",
    "    course_split = c.split(\".\", 1) # Split at first occurance of a period\n",
    "    if len(course_split) != 2: continue # Skip instances where there is bad course format. \n",
    "    data_entry[\"CourseCode\"] = course_split[0]\n",
    "    data_entry[\"CourseName\"]= course_split[1].lstrip(\" \") # Remove leading space.\n",
    "\n",
    "    credit = re.findall(r'\\((\\d)+\\s+credits\\)', p)\n",
    "    \"\"\"\n",
    "    the regular expression \\((\\d+)\\s+credits\\) matches any sequence of digits (\\d+)\n",
    "    that are directly after a parenthesis and followed by one or more spaces (\\s+)\n",
    "    and the word \"credits\". The parentheses around \\d+ create a group that \n",
    "    findall() returns as a list.\n",
    "    \"\"\"\n",
    "    data_entry[\"Credit\"] = \" \".join(credit)\n",
    "    data_entry[\"Link\"] = l\n",
    "    data_entry[\"Note\"] = p\n",
    "    data.append(data_entry)\n",
    "\n",
    "for i in range(5):\n",
    "    print(data[i])"
   ]
  },
  {
   "cell_type": "markdown",
   "metadata": {},
   "source": [
    "Now, lets put our data into a CSV file. "
   ]
  },
  {
   "cell_type": "code",
   "execution_count": 15,
   "metadata": {},
   "outputs": [],
   "source": [
    "import pandas as pd\n",
    "df = pd.DataFrame(data)\n",
    "df.to_csv('eecs_course.csv', index=False)"
   ]
  }
 ],
 "metadata": {
  "kernelspec": {
   "display_name": "Python 3",
   "language": "python",
   "name": "python3"
  },
  "language_info": {
   "codemirror_mode": {
    "name": "ipython",
    "version": 3
   },
   "file_extension": ".py",
   "mimetype": "text/x-python",
   "name": "python",
   "nbconvert_exporter": "python",
   "pygments_lexer": "ipython3",
   "version": "3.10.1"
  }
 },
 "nbformat": 4,
 "nbformat_minor": 2
}
