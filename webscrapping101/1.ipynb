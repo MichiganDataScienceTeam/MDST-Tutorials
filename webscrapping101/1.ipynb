{
 "cells": [
  {
   "cell_type": "markdown",
   "metadata": {},
   "source": [
    "# Web Scraping 101\n",
    "\n",
    "## Background\n",
    "We saw the importance of data in the modern world in the last decade, from making business decisions to building groundbreacking AI system, massive datasets are used in to provide valuable insights in all fields around the world providing. However, gathering data are often times a challenging task, as it is time consuming and expensive. \n",
    "\n",
    "A place full of free data is the web, thus utilizing the web for gathering data has become a common practice. We use a powerful technique called Web scraping for such task, automating the manual extraction of data and information from websites online. Web scraping often comes in a two step process, collect the data in raw forms then parse the data for further use.\n",
    "\n",
    "1. web requests\n",
    "2. HTML and javascripts\n",
    "3. Python libraries\n",
    "4. Sending requests and parsing static web pages. \n",
    "5. Clean and store information.\n",
    "6. Dealing with popups\n",
    "7. Other things to consider."
   ]
  },
  {
   "cell_type": "markdown",
   "metadata": {},
   "source": [
    "## Web requests"
   ]
  }
 ],
 "metadata": {
  "language_info": {
   "name": "python"
  }
 },
 "nbformat": 4,
 "nbformat_minor": 2
}
